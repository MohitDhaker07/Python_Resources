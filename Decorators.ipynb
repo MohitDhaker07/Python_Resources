{
 "cells": [
  {
   "cell_type": "code",
   "execution_count": 1,
   "id": "2365dcfc",
   "metadata": {},
   "outputs": [],
   "source": [
    "def hello(name='Jose'):\n",
    "    \n",
    "    def greet():\n",
    "        return '\\t This is inside the greet() function'\n",
    "    \n",
    "    def welcome():\n",
    "        return \"\\t This is inside the welcome() function\"\n",
    "    \n",
    "    if name == 'Jose':\n",
    "        return greet\n",
    "    else:\n",
    "        return welcome"
   ]
  },
  {
   "cell_type": "code",
   "execution_count": 2,
   "id": "0b08fea9",
   "metadata": {},
   "outputs": [],
   "source": [
    "def hello():\n",
    "    return 'Hi Jose!'\n",
    "\n",
    "def other(func):\n",
    "    print('Other code would go here')\n",
    "    print(func())"
   ]
  },
  {
   "cell_type": "code",
   "execution_count": 4,
   "id": "c5904156",
   "metadata": {},
   "outputs": [],
   "source": [
    "def new_decorator(func):\n",
    "\n",
    "    def wrap_func():\n",
    "        print(\"Code would be here, before executing the func\")\n",
    "\n",
    "        func()\n",
    "\n",
    "        print(\"Code here will execute after the func()\")\n",
    "\n",
    "    return wrap_func\n",
    "\n",
    "def func_needs_decorator():\n",
    "    print(\"This function is in need of a Decorator\")"
   ]
  },
  {
   "cell_type": "code",
   "execution_count": 5,
   "id": "73aca2a3",
   "metadata": {},
   "outputs": [],
   "source": [
    "@new_decorator\n",
    "def func_needs_decorator():\n",
    "    print(\"This function is in need of a Decorator\")"
   ]
  },
  {
   "cell_type": "code",
   "execution_count": 6,
   "id": "22991865",
   "metadata": {},
   "outputs": [
    {
     "name": "stdout",
     "output_type": "stream",
     "text": [
      "Code would be here, before executing the func\n",
      "This function is in need of a Decorator\n",
      "Code here will execute after the func()\n"
     ]
    }
   ],
   "source": [
    "func_needs_decorator()"
   ]
  },
  {
   "cell_type": "code",
   "execution_count": null,
   "id": "e731a787",
   "metadata": {},
   "outputs": [],
   "source": []
  }
 ],
 "metadata": {
  "kernelspec": {
   "display_name": "Python 3",
   "language": "python",
   "name": "python3"
  },
  "language_info": {
   "codemirror_mode": {
    "name": "ipython",
    "version": 3
   },
   "file_extension": ".py",
   "mimetype": "text/x-python",
   "name": "python",
   "nbconvert_exporter": "python",
   "pygments_lexer": "ipython3",
   "version": "3.8.8"
  }
 },
 "nbformat": 4,
 "nbformat_minor": 5
}
