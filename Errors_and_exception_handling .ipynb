{
 "cells": [
  {
   "cell_type": "code",
   "execution_count": 7,
   "id": "15f325e0",
   "metadata": {},
   "outputs": [
    {
     "name": "stdout",
     "output_type": "stream",
     "text": [
      "Enter a number: \n",
      "Oops! Your number is not an integer\n"
     ]
    }
   ],
   "source": [
    "# try and except \n",
    "\n",
    "try:\n",
    "    user = input(\"Enter a number: \")\n",
    "    print(user+10)\n",
    "except:\n",
    "    print(\"Oops! Your number is not an integer\")\n"
   ]
  },
  {
   "cell_type": "code",
   "execution_count": 15,
   "id": "d80c1cf3",
   "metadata": {},
   "outputs": [
    {
     "name": "stdout",
     "output_type": "stream",
     "text": [
      "You have an Oserror\n"
     ]
    }
   ],
   "source": [
    "try:\n",
    "    f= open('testfile','r')\n",
    "    f.write(\"This is a testfile\")\n",
    "except TypeError:\n",
    "    print(\"You have a type error\")\n",
    "except OSError:\n",
    "    print(\"You have an Oserror\")\n",
    "except:\n",
    "    print(\"Oops! looks like you some issue\")"
   ]
  },
  {
   "cell_type": "code",
   "execution_count": 3,
   "id": "c0da40d8",
   "metadata": {},
   "outputs": [],
   "source": [
    "def ask_for_integer():\n",
    "    while True:\n",
    "        try:\n",
    "            user = int(input(\"Enter a number: \"))\n",
    "        except:\n",
    "            print(\"Enterd value is not an integer\")\n",
    "            continue\n",
    "        else:\n",
    "            print(\"Thank you\")\n",
    "            break\n",
    "#         finally:\n",
    "#             print(\"End of try/except/finally\")\n"
   ]
  },
  {
   "cell_type": "code",
   "execution_count": 4,
   "id": "8fff99fc",
   "metadata": {},
   "outputs": [
    {
     "name": "stdout",
     "output_type": "stream",
     "text": [
      "Enter a number: g\n",
      "Enterd value is not an integer\n",
      "End of try/except/finally\n",
      "Enter a number: 4\n",
      "Thank you\n",
      "End of try/except/finally\n"
     ]
    }
   ],
   "source": [
    "ask_for_integer()"
   ]
  },
  {
   "cell_type": "code",
   "execution_count": null,
   "id": "73454f36",
   "metadata": {},
   "outputs": [],
   "source": []
  },
  {
   "cell_type": "code",
   "execution_count": null,
   "id": "07e79e87",
   "metadata": {},
   "outputs": [],
   "source": []
  }
 ],
 "metadata": {
  "kernelspec": {
   "display_name": "Python 3",
   "language": "python",
   "name": "python3"
  },
  "language_info": {
   "codemirror_mode": {
    "name": "ipython",
    "version": 3
   },
   "file_extension": ".py",
   "mimetype": "text/x-python",
   "name": "python",
   "nbconvert_exporter": "python",
   "pygments_lexer": "ipython3",
   "version": "3.8.8"
  }
 },
 "nbformat": 4,
 "nbformat_minor": 5
}
