{
 "cells": [
  {
   "cell_type": "code",
   "execution_count": 1,
   "id": "c5ba3faf",
   "metadata": {},
   "outputs": [],
   "source": [
    "mylist = [1,2,3,4,5,6]"
   ]
  },
  {
   "cell_type": "code",
   "execution_count": 2,
   "id": "5c626db0",
   "metadata": {},
   "outputs": [],
   "source": [
    "mylist.insert(0 , 0)"
   ]
  },
  {
   "cell_type": "code",
   "execution_count": 3,
   "id": "09c64f68",
   "metadata": {},
   "outputs": [
    {
     "data": {
      "text/plain": [
       "[0, 1, 2, 3, 4, 5, 6]"
      ]
     },
     "execution_count": 3,
     "metadata": {},
     "output_type": "execute_result"
    }
   ],
   "source": [
    "mylist"
   ]
  },
  {
   "cell_type": "markdown",
   "id": "0dea78b1",
   "metadata": {},
   "source": [
    "# Functions"
   ]
  },
  {
   "cell_type": "code",
   "execution_count": 5,
   "id": "daaad518",
   "metadata": {},
   "outputs": [],
   "source": [
    "def name_of_function ():\n",
    "    '''\n",
    "    Docstrings explains the functions \n",
    "    '''\n",
    "    print(\"Hello World!\")"
   ]
  },
  {
   "cell_type": "code",
   "execution_count": 6,
   "id": "a414d642",
   "metadata": {},
   "outputs": [
    {
     "name": "stdout",
     "output_type": "stream",
     "text": [
      "Hello World!\n"
     ]
    }
   ],
   "source": [
    "name_of_function()"
   ]
  },
  {
   "cell_type": "code",
   "execution_count": 18,
   "id": "26b6861d",
   "metadata": {},
   "outputs": [],
   "source": [
    "def name_of_function (name):\n",
    "    '''\n",
    "    Docstrings explains the functions \n",
    "    '''\n",
    "    print(\"Hello \" + name)"
   ]
  },
  {
   "cell_type": "code",
   "execution_count": 19,
   "id": "18d4e044",
   "metadata": {},
   "outputs": [
    {
     "name": "stdout",
     "output_type": "stream",
     "text": [
      "Hello mohit\n"
     ]
    }
   ],
   "source": [
    "name_of_function('mohit')"
   ]
  },
  {
   "cell_type": "code",
   "execution_count": null,
   "id": "038d59ad",
   "metadata": {},
   "outputs": [],
   "source": [
    "\n",
    "def user_greet(name=\"default\"):\n",
    "    name=input(\"Enter name: \")\n",
    "    print(f\"Hello {name}\")\n",
    "user_greet()"
   ]
  },
  {
   "cell_type": "code",
   "execution_count": 2,
   "id": "0178d891",
   "metadata": {},
   "outputs": [],
   "source": [
    "def print_result(a,b):\n",
    "    print(a+b)"
   ]
  },
  {
   "cell_type": "code",
   "execution_count": 3,
   "id": "2768d9fd",
   "metadata": {},
   "outputs": [],
   "source": [
    "def return_result(a,b):\n",
    "    return a+b"
   ]
  },
  {
   "cell_type": "code",
   "execution_count": 8,
   "id": "d1a2f555",
   "metadata": {},
   "outputs": [
    {
     "name": "stdout",
     "output_type": "stream",
     "text": [
      "30\n"
     ]
    }
   ],
   "source": [
    "value = print_result(10,20)"
   ]
  },
  {
   "cell_type": "code",
   "execution_count": 12,
   "id": "9b937cf3",
   "metadata": {},
   "outputs": [
    {
     "data": {
      "text/plain": [
       "NoneType"
      ]
     },
     "execution_count": 12,
     "metadata": {},
     "output_type": "execute_result"
    }
   ],
   "source": [
    "type(value)   # by print function you cannot store value in a variable "
   ]
  },
  {
   "cell_type": "code",
   "execution_count": 16,
   "id": "6a1298a1",
   "metadata": {},
   "outputs": [],
   "source": [
    "r_result = return_result(10, 20)"
   ]
  },
  {
   "cell_type": "code",
   "execution_count": 17,
   "id": "bfd01425",
   "metadata": {},
   "outputs": [
    {
     "data": {
      "text/plain": [
       "30"
      ]
     },
     "execution_count": 17,
     "metadata": {},
     "output_type": "execute_result"
    }
   ],
   "source": [
    "r_result      # return can store the value in a variable "
   ]
  },
  {
   "cell_type": "code",
   "execution_count": 18,
   "id": "13ead132",
   "metadata": {},
   "outputs": [],
   "source": [
    "def check_even(number):\n",
    "    if number%2==0:\n",
    "        print(f\"{number} is even\")\n",
    "    else:\n",
    "        print(f\"{number} is odd\")"
   ]
  },
  {
   "cell_type": "code",
   "execution_count": 20,
   "id": "42b5564a",
   "metadata": {},
   "outputs": [
    {
     "name": "stdout",
     "output_type": "stream",
     "text": [
      "4 is even\n"
     ]
    }
   ],
   "source": [
    "check_even(4)"
   ]
  },
  {
   "cell_type": "code",
   "execution_count": 29,
   "id": "bbbb2539",
   "metadata": {},
   "outputs": [],
   "source": [
    "# return even if the list have any even number\n",
    "mylist=[1,3,5,7,3,2]\n",
    "def even_list(mylist):\n",
    "    for item in mylist:\n",
    "        if item%2==0:\n",
    "            return(f\"List have even number at\",mylist[item])"
   ]
  },
  {
   "cell_type": "code",
   "execution_count": 30,
   "id": "241c046d",
   "metadata": {},
   "outputs": [
    {
     "data": {
      "text/plain": [
       "('List have even number at', 5)"
      ]
     },
     "execution_count": 30,
     "metadata": {},
     "output_type": "execute_result"
    }
   ],
   "source": [
    "even_list(mylist)"
   ]
  },
  {
   "cell_type": "code",
   "execution_count": 35,
   "id": "d00c035c",
   "metadata": {},
   "outputs": [
    {
     "name": "stdout",
     "output_type": "stream",
     "text": [
      "appl\n",
      "200\n",
      "msft\n",
      "100\n",
      "google\n",
      "150\n"
     ]
    }
   ],
   "source": [
    "# Tuple unpacking \n",
    "\n",
    "stock_prices = [('appl',200),('msft',100),('google',150)]\n",
    "for stock,price in stock_prices:\n",
    "    print(stock)\n",
    "    print(price)"
   ]
  },
  {
   "cell_type": "code",
   "execution_count": 37,
   "id": "a3913f8e",
   "metadata": {},
   "outputs": [],
   "source": [
    "# Tuple unpacking by function\n",
    "\n",
    "work_hour=[('jay',100),('mark',200),('bill',150)]"
   ]
  },
  {
   "cell_type": "code",
   "execution_count": 42,
   "id": "8b75fa74",
   "metadata": {},
   "outputs": [],
   "source": [
    "def employee_check(work_hour):\n",
    "    current_max=0\n",
    "    employee_of_month=''\n",
    "    \n",
    "    for name,hour in work_hour:\n",
    "        if hour>current_max:\n",
    "            current_max = hour\n",
    "            employee_of_month= name\n",
    "        else:\n",
    "            pass\n",
    "    return(f\"Employee of the month is {employee_of_month} with {current_max}\")\n",
    "    "
   ]
  },
  {
   "cell_type": "code",
   "execution_count": 43,
   "id": "25dd548a",
   "metadata": {},
   "outputs": [
    {
     "data": {
      "text/plain": [
       "'Employee of the month is mark with 200'"
      ]
     },
     "execution_count": 43,
     "metadata": {},
     "output_type": "execute_result"
    }
   ],
   "source": [
    "employee_check(work_hour)"
   ]
  },
  {
   "cell_type": "code",
   "execution_count": 1,
   "id": "569fbc1d",
   "metadata": {},
   "outputs": [],
   "source": [
    "# function interactions \n",
    "\n",
    "example= [1,2,3,4,5,6,7,8]\n",
    "\n",
    "from random import shuffle\n",
    "\n",
    "def shuffle_list(mylist):\n",
    "    shuffle(mylist)\n",
    "    return mylist\n",
    "    "
   ]
  },
  {
   "cell_type": "code",
   "execution_count": 2,
   "id": "3e07a5ac",
   "metadata": {},
   "outputs": [],
   "source": [
    "def player_guess():\n",
    "    guess = \" \"\n",
    "    while guess not in [0, 1, 2]:\n",
    "        guess = int(input(\"Pic a number 0,1,2 : \"))\n",
    "    return guess\n"
   ]
  },
  {
   "cell_type": "code",
   "execution_count": 3,
   "id": "2933dfc3",
   "metadata": {},
   "outputs": [],
   "source": [
    "def check_guess(mylist, player_guess):\n",
    "    if mylist == player_guess:\n",
    "        print(\"Correct guess!\")\n",
    "        print(mylist)\n",
    "    else:\n",
    "        print(\"Try again \")\n",
    "        print(mylist)\n",
    "    "
   ]
  },
  {
   "cell_type": "code",
   "execution_count": 5,
   "id": "a5ef7917",
   "metadata": {},
   "outputs": [
    {
     "name": "stdout",
     "output_type": "stream",
     "text": [
      "Pic a number 0,1,2 : 0\n",
      "Try again \n",
      "['O', ' ', ' ']\n"
     ]
    }
   ],
   "source": [
    "\n",
    "# Initial list\n",
    "mylist = [\"O\", \" \", \" \"]\n",
    "\n",
    "# shuffle list\n",
    "mixed_list = shuffle_list(mylist)\n",
    "\n",
    "# user guess\n",
    "guess = player_guess()\n",
    "\n",
    "# check guess\n",
    "check_guess(mixed_list, guess)"
   ]
  },
  {
   "cell_type": "code",
   "execution_count": 2,
   "id": "a1c4b75e",
   "metadata": {},
   "outputs": [
    {
     "data": {
      "text/plain": [
       "16"
      ]
     },
     "execution_count": 2,
     "metadata": {},
     "output_type": "execute_result"
    }
   ],
   "source": [
    "# *args and **kwargs\n",
    "\n",
    "def myfun(*args):\n",
    "    return(sum(args))\n",
    "\n",
    "myfun(2,3,5,6)"
   ]
  },
  {
   "cell_type": "code",
   "execution_count": 14,
   "id": "0e70459d",
   "metadata": {},
   "outputs": [],
   "source": [
    "# args can be stored in an varable\n",
    "def myafun(*args):\n",
    "    arguments = args\n",
    "    for item in arguments:\n",
    "        if item==1:\n",
    "            print(item,\"This number is not allowed\")\n",
    "    else:\n",
    "        print(sum(arguments),\"is your sum!\")"
   ]
  },
  {
   "cell_type": "code",
   "execution_count": 15,
   "id": "7a1934c0",
   "metadata": {},
   "outputs": [
    {
     "name": "stdout",
     "output_type": "stream",
     "text": [
      "7 is your sum!\n"
     ]
    }
   ],
   "source": [
    "myafun(2,2,3)"
   ]
  },
  {
   "cell_type": "code",
   "execution_count": 27,
   "id": "238ead30",
   "metadata": {},
   "outputs": [],
   "source": [
    "# **kwargs  (returns dectionary)\n",
    "def myfunct(**kwargs):\n",
    "    print(kwargs)\n",
    "    if 'name' in kwargs:\n",
    "        print(f\"Welcome {kwargs['name']}\")\n",
    "    else:\n",
    "        print(\"New name\")"
   ]
  },
  {
   "cell_type": "code",
   "execution_count": 28,
   "id": "98263bd0",
   "metadata": {},
   "outputs": [
    {
     "name": "stdout",
     "output_type": "stream",
     "text": [
      "{'name': 'rohit'}\n",
      "Welcome rohit\n"
     ]
    }
   ],
   "source": [
    "myfunct(name='rohit')"
   ]
  },
  {
   "cell_type": "code",
   "execution_count": 31,
   "id": "475bce3c",
   "metadata": {},
   "outputs": [],
   "source": [
    "def func(*args, **kwargs):\n",
    "    print(f\"I would like {args[0]} {kwargs['food']}\")"
   ]
  },
  {
   "cell_type": "code",
   "execution_count": 32,
   "id": "b5bb0d37",
   "metadata": {},
   "outputs": [
    {
     "name": "stdout",
     "output_type": "stream",
     "text": [
      "I would like 1 pizza\n"
     ]
    }
   ],
   "source": [
    "func(1,2,3,name='mohit',food=\"pizza\")"
   ]
  },
  {
   "cell_type": "code",
   "execution_count": 33,
   "id": "ecd52b1a",
   "metadata": {},
   "outputs": [],
   "source": [
    "# map function \n",
    "\n",
    "def square(num):\n",
    "    return num**2"
   ]
  },
  {
   "cell_type": "code",
   "execution_count": 34,
   "id": "2eb1e498",
   "metadata": {},
   "outputs": [],
   "source": [
    "my_nums=[1,2,3,4,5]"
   ]
  },
  {
   "cell_type": "code",
   "execution_count": 36,
   "id": "035756bf",
   "metadata": {},
   "outputs": [
    {
     "name": "stdout",
     "output_type": "stream",
     "text": [
      "1\n",
      "4\n",
      "9\n",
      "16\n",
      "25\n"
     ]
    }
   ],
   "source": [
    "for items in map(square, my_nums):\n",
    "    print(items )"
   ]
  },
  {
   "cell_type": "code",
   "execution_count": 38,
   "id": "b2583e48",
   "metadata": {},
   "outputs": [
    {
     "data": {
      "text/plain": [
       "[1, 4, 9, 16, 25]"
      ]
     },
     "execution_count": 38,
     "metadata": {},
     "output_type": "execute_result"
    }
   ],
   "source": [
    "list(map(square, my_nums))"
   ]
  },
  {
   "cell_type": "code",
   "execution_count": 46,
   "id": "ef0c000c",
   "metadata": {},
   "outputs": [],
   "source": [
    "def spicer(string):\n",
    "    if len(string)%2==0:\n",
    "        return (\"Even\")\n",
    "    else:\n",
    "        return (string[0])"
   ]
  },
  {
   "cell_type": "code",
   "execution_count": 47,
   "id": "59aa8ba9",
   "metadata": {},
   "outputs": [],
   "source": [
    "names = ['mohit','andy','max']"
   ]
  },
  {
   "cell_type": "code",
   "execution_count": 48,
   "id": "b544938f",
   "metadata": {},
   "outputs": [
    {
     "data": {
      "text/plain": [
       "['m', 'Even', 'm']"
      ]
     },
     "execution_count": 48,
     "metadata": {},
     "output_type": "execute_result"
    }
   ],
   "source": [
    "list(map(spicer,names))"
   ]
  },
  {
   "cell_type": "code",
   "execution_count": 51,
   "id": "f86899fc",
   "metadata": {},
   "outputs": [],
   "source": [
    "def check_even(numbers):\n",
    "    return numbers%2==0"
   ]
  },
  {
   "cell_type": "code",
   "execution_count": 53,
   "id": "10c1e7e1",
   "metadata": {},
   "outputs": [],
   "source": [
    "numbers=[1,2,3,4,5,6]"
   ]
  },
  {
   "cell_type": "code",
   "execution_count": 55,
   "id": "9a6a1f0f",
   "metadata": {},
   "outputs": [
    {
     "name": "stdout",
     "output_type": "stream",
     "text": [
      "2\n",
      "4\n",
      "6\n"
     ]
    }
   ],
   "source": [
    "for evens in filter(check_even, numbers):\n",
    "    print(evens)"
   ]
  },
  {
   "cell_type": "code",
   "execution_count": 56,
   "id": "3ba58255",
   "metadata": {},
   "outputs": [
    {
     "data": {
      "text/plain": [
       "[2, 4, 6]"
      ]
     },
     "execution_count": 56,
     "metadata": {},
     "output_type": "execute_result"
    }
   ],
   "source": [
    "list(filter(check_even, numbers))"
   ]
  },
  {
   "cell_type": "code",
   "execution_count": 60,
   "id": "89931921",
   "metadata": {},
   "outputs": [
    {
     "data": {
      "text/plain": [
       "9"
      ]
     },
     "execution_count": 60,
     "metadata": {},
     "output_type": "execute_result"
    }
   ],
   "source": [
    "# lambda expression  \n",
    "square = lambda num:num**2\n",
    "square(3)"
   ]
  },
  {
   "cell_type": "code",
   "execution_count": 61,
   "id": "a866e55c",
   "metadata": {},
   "outputs": [
    {
     "data": {
      "text/plain": [
       "[1, 4, 9, 16, 25, 36]"
      ]
     },
     "execution_count": 61,
     "metadata": {},
     "output_type": "execute_result"
    }
   ],
   "source": [
    "list(map(lambda num: num**2, numbers))"
   ]
  },
  {
   "cell_type": "code",
   "execution_count": 5,
   "id": "6d637af7",
   "metadata": {},
   "outputs": [],
   "source": [
    "# global and local variables (LEGB)\n",
    "\n",
    "name= 'sam'   # lobal variable \n",
    "\n",
    "def greet():\n",
    "    name = 'mohit'   # local varaibale \n",
    "    \n",
    "    def hello():\n",
    "        #local\n",
    "        name = \" i'm a local\"\n",
    "        print(\"Hello \"+name)\n",
    "    hello()"
   ]
  },
  {
   "cell_type": "code",
   "execution_count": 6,
   "id": "5c5ce5fa",
   "metadata": {},
   "outputs": [
    {
     "name": "stdout",
     "output_type": "stream",
     "text": [
      "Hello  i'm a local\n"
     ]
    }
   ],
   "source": [
    "greet()"
   ]
  },
  {
   "cell_type": "code",
   "execution_count": 9,
   "id": "e0584e8f",
   "metadata": {},
   "outputs": [
    {
     "name": "stdout",
     "output_type": "stream",
     "text": [
      "sam\n",
      "Hello  i'm a local\n"
     ]
    }
   ],
   "source": [
    "name= 'sam'   # lobal variable \n",
    "\n",
    "def greet():\n",
    "    global name\n",
    "    print(name)\n",
    "    name = 'mohit'   # local varaibale \n",
    "    \n",
    "    def hello():\n",
    "        #local\n",
    "        name = \" i'm a local\"\n",
    "        print(\"Hello \"+name)\n",
    "    hello()\n",
    "greet()"
   ]
  },
  {
   "cell_type": "code",
   "execution_count": null,
   "id": "e6b97605",
   "metadata": {},
   "outputs": [],
   "source": []
  },
  {
   "cell_type": "code",
   "execution_count": null,
   "id": "a3d672be",
   "metadata": {},
   "outputs": [],
   "source": []
  }
 ],
 "metadata": {
  "kernelspec": {
   "display_name": "Python 3",
   "language": "python",
   "name": "python3"
  },
  "language_info": {
   "codemirror_mode": {
    "name": "ipython",
    "version": 3
   },
   "file_extension": ".py",
   "mimetype": "text/x-python",
   "name": "python",
   "nbconvert_exporter": "python",
   "pygments_lexer": "ipython3",
   "version": "3.8.8"
  }
 },
 "nbformat": 4,
 "nbformat_minor": 5
}
