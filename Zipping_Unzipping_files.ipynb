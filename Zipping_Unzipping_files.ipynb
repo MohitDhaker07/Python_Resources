{
 "cells": [
  {
   "cell_type": "code",
   "execution_count": 6,
   "id": "bb3a7e39",
   "metadata": {},
   "outputs": [],
   "source": [
    "f = open(\"first_file.txt\", \"w+\")\n",
    "f.write(\"This is the first file\")\n",
    "f.close()"
   ]
  },
  {
   "cell_type": "code",
   "execution_count": 8,
   "id": "c1100299",
   "metadata": {},
   "outputs": [],
   "source": [
    "f = open(\"second_file.txt\", \"w+\")\n",
    "f.write(\"This is the second file\")\n",
    "f.close()"
   ]
  },
  {
   "cell_type": "code",
   "execution_count": 10,
   "id": "b6c44038",
   "metadata": {},
   "outputs": [],
   "source": [
    "import zipfile\n",
    "comp_file = zipfile.ZipFile('Comp_file.zip','w')"
   ]
  },
  {
   "cell_type": "code",
   "execution_count": 11,
   "id": "99644380",
   "metadata": {},
   "outputs": [],
   "source": [
    "comp_file.write('first_file.txt',compress_type=zipfile.ZIP_DEFLATED)"
   ]
  },
  {
   "cell_type": "code",
   "execution_count": 12,
   "id": "0c57c3ce",
   "metadata": {},
   "outputs": [],
   "source": [
    "comp_file.write('second_file.txt',compress_type=zipfile.ZIP_DEFLATED)"
   ]
  },
  {
   "cell_type": "code",
   "execution_count": 14,
   "id": "2ee8aa5a",
   "metadata": {},
   "outputs": [],
   "source": [
    "comp_file.close()"
   ]
  },
  {
   "cell_type": "code",
   "execution_count": 15,
   "id": "d518575f",
   "metadata": {},
   "outputs": [],
   "source": [
    "zipped_file = zipfile.ZipFile('Comp_file.zip','r')"
   ]
  },
  {
   "cell_type": "code",
   "execution_count": 16,
   "id": "c6923427",
   "metadata": {},
   "outputs": [],
   "source": [
    "zipped_file.extractall('extracted_file')"
   ]
  },
  {
   "cell_type": "code",
   "execution_count": null,
   "id": "f3af2af3",
   "metadata": {},
   "outputs": [],
   "source": []
  },
  {
   "cell_type": "code",
   "execution_count": null,
   "id": "1a9d693b",
   "metadata": {},
   "outputs": [],
   "source": []
  },
  {
   "cell_type": "code",
   "execution_count": null,
   "id": "14f38cbe",
   "metadata": {},
   "outputs": [],
   "source": []
  }
 ],
 "metadata": {
  "kernelspec": {
   "display_name": "Python 3",
   "language": "python",
   "name": "python3"
  },
  "language_info": {
   "codemirror_mode": {
    "name": "ipython",
    "version": 3
   },
   "file_extension": ".py",
   "mimetype": "text/x-python",
   "name": "python",
   "nbconvert_exporter": "python",
   "pygments_lexer": "ipython3",
   "version": "3.8.8"
  }
 },
 "nbformat": 4,
 "nbformat_minor": 5
}
