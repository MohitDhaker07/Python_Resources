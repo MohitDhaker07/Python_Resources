{
 "cells": [
  {
   "cell_type": "code",
   "execution_count": 4,
   "id": "f76df01a",
   "metadata": {
    "scrolled": true
   },
   "outputs": [
    {
     "name": "stdout",
     "output_type": "stream",
     "text": [
      "ohit\n"
     ]
    }
   ],
   "source": [
    "last_letters= name[1:]\n",
    "print(last_letters)"
   ]
  },
  {
   "cell_type": "code",
   "execution_count": 6,
   "id": "1f2cf002",
   "metadata": {
    "scrolled": true
   },
   "outputs": [
    {
     "data": {
      "text/plain": [
       "'rohit'"
      ]
     },
     "execution_count": 6,
     "metadata": {},
     "output_type": "execute_result"
    }
   ],
   "source": [
    "\"r\"+last_letters"
   ]
  },
  {
   "cell_type": "code",
   "execution_count": 9,
   "id": "1a5f3f78",
   "metadata": {},
   "outputs": [],
   "source": [
    "n=\"my name is mohit\""
   ]
  },
  {
   "cell_type": "code",
   "execution_count": 11,
   "id": "b6b59222",
   "metadata": {},
   "outputs": [
    {
     "data": {
      "text/plain": [
       "['', 'y na', 'e is ', 'ohit']"
      ]
     },
     "execution_count": 11,
     "metadata": {},
     "output_type": "execute_result"
    }
   ],
   "source": [
    "n.split('m')"
   ]
  },
  {
   "cell_type": "markdown",
   "id": "8074b7b7",
   "metadata": {},
   "source": [
    "Formating with the.format() method\n",
    "use {} to give the location to insert"
   ]
  },
  {
   "cell_type": "code",
   "execution_count": 18,
   "id": "bb59ccbc",
   "metadata": {},
   "outputs": [
    {
     "name": "stdout",
     "output_type": "stream",
     "text": [
      "Enter your name: mohit\n",
      "My name is mohit\n"
     ]
    }
   ],
   "source": [
    "user=input(\"Enter your name: \")\n",
    "print(\"My name is {}\".format(user))"
   ]
  },
  {
   "cell_type": "markdown",
   "id": "2b3177d5",
   "metadata": {},
   "source": [
    "# Lists in python"
   ]
  },
  {
   "cell_type": "code",
   "execution_count": 29,
   "id": "8f2aa159",
   "metadata": {},
   "outputs": [],
   "source": [
    "my_list=[1,2,3,4]\n",
    "another_list=[5,6,7]\n",
    "new_list= my_list + another_list"
   ]
  },
  {
   "cell_type": "code",
   "execution_count": 30,
   "id": "15812689",
   "metadata": {},
   "outputs": [
    {
     "data": {
      "text/plain": [
       "[1, 2, 3, 4, 5, 6, 7]"
      ]
     },
     "execution_count": 30,
     "metadata": {},
     "output_type": "execute_result"
    }
   ],
   "source": [
    "new_list"
   ]
  },
  {
   "cell_type": "code",
   "execution_count": 31,
   "id": "fe8b0972",
   "metadata": {},
   "outputs": [
    {
     "data": {
      "text/plain": [
       "1"
      ]
     },
     "execution_count": 31,
     "metadata": {},
     "output_type": "execute_result"
    }
   ],
   "source": [
    "new_list.pop(0)"
   ]
  },
  {
   "cell_type": "code",
   "execution_count": null,
   "id": "23e409ee",
   "metadata": {},
   "outputs": [],
   "source": [
    "lst=[2,1,4,5,6,3]\n",
    "lst.sort()"
   ]
  },
  {
   "cell_type": "markdown",
   "id": "7bebf3f3",
   "metadata": {},
   "source": [
    "# Dictionaries "
   ]
  },
  {
   "cell_type": "code",
   "execution_count": 2,
   "id": "84edeac9",
   "metadata": {},
   "outputs": [
    {
     "name": "stdout",
     "output_type": "stream",
     "text": [
      "Search price for: apples\n"
     ]
    },
    {
     "data": {
      "text/plain": [
       "'100/kg'"
      ]
     },
     "execution_count": 2,
     "metadata": {},
     "output_type": "execute_result"
    }
   ],
   "source": [
    "user=input(\"Search price for: \")\n",
    "item={\"apples\":\"100/kg\",\"Oranges\":\"70/kg\", \"strawberry\":\"200/kg\"}\n",
    "item[user]"
   ]
  },
  {
   "cell_type": "code",
   "execution_count": 11,
   "id": "1b13e2e2",
   "metadata": {},
   "outputs": [
    {
     "data": {
      "text/plain": [
       "1"
      ]
     },
     "execution_count": 11,
     "metadata": {},
     "output_type": "execute_result"
    }
   ],
   "source": [
    "d={\"lists\":[1,2,3,4,5], \"dictionary\":{\"key1\":1,\"key2\":2}}\n",
    "d[\"lists\"][0]"
   ]
  },
  {
   "cell_type": "code",
   "execution_count": 27,
   "id": "d042fe20",
   "metadata": {},
   "outputs": [
    {
     "data": {
      "text/plain": [
       "'A'"
      ]
     },
     "execution_count": 27,
     "metadata": {},
     "output_type": "execute_result"
    }
   ],
   "source": [
    "d={\"key\":['a','b', 'c']}\n",
    "d['key'][0].upper()"
   ]
  },
  {
   "cell_type": "code",
   "execution_count": 30,
   "id": "09d84dd9",
   "metadata": {},
   "outputs": [
    {
     "data": {
      "text/plain": [
       "dict_values([['a', 'b', 'c']])"
      ]
     },
     "execution_count": 30,
     "metadata": {},
     "output_type": "execute_result"
    }
   ],
   "source": [
    "d.keys()"
   ]
  },
  {
   "cell_type": "code",
   "execution_count": 31,
   "id": "9f173796",
   "metadata": {
    "scrolled": true
   },
   "outputs": [
    {
     "data": {
      "text/plain": [
       "dict_values([['a', 'b', 'c']])"
      ]
     },
     "execution_count": 31,
     "metadata": {},
     "output_type": "execute_result"
    }
   ],
   "source": [
    "d.values()"
   ]
  },
  {
   "cell_type": "code",
   "execution_count": null,
   "id": "16e8d677",
   "metadata": {},
   "outputs": [],
   "source": [
    "d={'k1':[{'nested_key':['this is deep',['hello']]}]}     #grab hello\n",
    "d['k1'][0]['nested_key'][1]"
   ]
  },
  {
   "cell_type": "markdown",
   "id": "65849fc5",
   "metadata": {},
   "source": [
    "# Sets"
   ]
  },
  {
   "cell_type": "code",
   "execution_count": 34,
   "id": "d4f9c0c7",
   "metadata": {},
   "outputs": [
    {
     "data": {
      "text/plain": [
       "{1, 2}"
      ]
     },
     "execution_count": 34,
     "metadata": {},
     "output_type": "execute_result"
    }
   ],
   "source": [
    "my_set=set()\n",
    "my_set.add(1)\n",
    "my_set.add(2)\n",
    "my_set"
   ]
  },
  {
   "cell_type": "code",
   "execution_count": 38,
   "id": "4333cdda",
   "metadata": {
    "collapsed": true
   },
   "outputs": [
    {
     "data": {
      "text/plain": [
       "[1, 2, 3, 4, 5, 6]"
      ]
     },
     "execution_count": 38,
     "metadata": {},
     "output_type": "execute_result"
    }
   ],
   "source": [
    "# can be used for removing duplicate values from list\n",
    "my_list=[1,1,1,2,2,3,4,5,6,6]\n",
    "my_set=set(my_list)\n",
    "new_list=list(my_set)    #concert set into list\n",
    "new_list       "
   ]
  },
  {
   "cell_type": "markdown",
   "id": "14a0b408",
   "metadata": {},
   "source": [
    "# I/O with basic files "
   ]
  },
  {
   "cell_type": "code",
   "execution_count": 65,
   "id": "89f37caf",
   "metadata": {},
   "outputs": [],
   "source": [
    "my_file = open('test.txt')"
   ]
  },
  {
   "cell_type": "code",
   "execution_count": 74,
   "id": "9fe98e24",
   "metadata": {
    "scrolled": true
   },
   "outputs": [
    {
     "data": {
      "text/plain": [
       "'Hello there!!\\nMy name is Mohit Dhaker and I live in Pune. \\nand my I like to play football, play guitar and have a keen interest in astronomy. \\n'"
      ]
     },
     "execution_count": 74,
     "metadata": {},
     "output_type": "execute_result"
    }
   ],
   "source": [
    "# read file \n",
    "my_file.read() "
   ]
  },
  {
   "cell_type": "code",
   "execution_count": 75,
   "id": "9af7234b",
   "metadata": {},
   "outputs": [
    {
     "data": {
      "text/plain": [
       "0"
      ]
     },
     "execution_count": 75,
     "metadata": {},
     "output_type": "execute_result"
    }
   ],
   "source": [
    "my_file.seek(0)"
   ]
  },
  {
   "cell_type": "code",
   "execution_count": 76,
   "id": "795691ce",
   "metadata": {},
   "outputs": [
    {
     "data": {
      "text/plain": [
       "['Hello there!!\\n',\n",
       " 'My name is Mohit Dhaker and I live in Pune. \\n',\n",
       " 'and my I like to play football, play guitar and have a keen interest in astronomy. \\n']"
      ]
     },
     "execution_count": 76,
     "metadata": {},
     "output_type": "execute_result"
    }
   ],
   "source": [
    "my_file.readlines()"
   ]
  },
  {
   "cell_type": "code",
   "execution_count": 78,
   "id": "c832b8c3",
   "metadata": {},
   "outputs": [],
   "source": [
    "my_file.close()"
   ]
  },
  {
   "cell_type": "code",
   "execution_count": 79,
   "id": "a9dfe9fb",
   "metadata": {},
   "outputs": [],
   "source": [
    "with open('test.txt') as my_test_file:     # no need to close this file \n",
    "    content=my_test_file.read()      "
   ]
  },
  {
   "cell_type": "code",
   "execution_count": null,
   "id": "771a132f",
   "metadata": {},
   "outputs": [],
   "source": [
    "with open('test.txt', mode='a') as my_new_file:    # appending text in file \n",
    "    my_new_file.write('\\n this is the another line')"
   ]
  },
  {
   "cell_type": "code",
   "execution_count": null,
   "id": "e9895965",
   "metadata": {},
   "outputs": [],
   "source": []
  }
 ],
 "metadata": {
  "kernelspec": {
   "display_name": "Python 3",
   "language": "python",
   "name": "python3"
  },
  "language_info": {
   "codemirror_mode": {
    "name": "ipython",
    "version": 3
   },
   "file_extension": ".py",
   "mimetype": "text/x-python",
   "name": "python",
   "nbconvert_exporter": "python",
   "pygments_lexer": "ipython3",
   "version": "3.8.8"
  }
 },
 "nbformat": 4,
 "nbformat_minor": 5
}
