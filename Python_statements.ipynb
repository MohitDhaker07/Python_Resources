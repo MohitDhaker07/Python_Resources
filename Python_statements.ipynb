{
 "cells": [
  {
   "cell_type": "code",
   "execution_count": 1,
   "id": "774688cd",
   "metadata": {},
   "outputs": [
    {
     "name": "stdout",
     "output_type": "stream",
     "text": [
      "Feed me!\n"
     ]
    }
   ],
   "source": [
    "hungry = True  \n",
    "\n",
    "if hungry:\n",
    "    print(\"Feed me!\")\n",
    "\n",
    "else:\n",
    "    print(\"I'm not hungry\")\n",
    "        "
   ]
  },
  {
   "cell_type": "code",
   "execution_count": 4,
   "id": "d88b358b",
   "metadata": {},
   "outputs": [
    {
     "name": "stdout",
     "output_type": "stream",
     "text": [
      "Money is cool\n"
     ]
    }
   ],
   "source": [
    "loc = 'bank'\n",
    "\n",
    "if loc=='auto shop':\n",
    "    print(\"Cars are cool!\")\n",
    "elif loc=='bank':\n",
    "    print(\"Money is cool\")\n",
    "elif loc==\"store\":\n",
    "    print(\"welcome to store\")\n",
    "else:\n",
    "    print(\"I don't know much\")\n",
    "    "
   ]
  },
  {
   "cell_type": "markdown",
   "id": "43e5d60a",
   "metadata": {},
   "source": [
    "# For loops "
   ]
  },
  {
   "cell_type": "code",
   "execution_count": 5,
   "id": "2faf2f15",
   "metadata": {},
   "outputs": [],
   "source": [
    "my_list = [1,2,3,4,5,7,6,8,9]"
   ]
  },
  {
   "cell_type": "code",
   "execution_count": 16,
   "id": "8fa85b29",
   "metadata": {},
   "outputs": [
    {
     "name": "stdout",
     "output_type": "stream",
     "text": [
      "1\n",
      "2\n",
      "3\n",
      "4\n",
      "5\n",
      "7\n",
      "6\n",
      "8\n",
      "9\n"
     ]
    }
   ],
   "source": [
    "for num in my_list:\n",
    "    print(num)\n"
   ]
  },
  {
   "cell_type": "code",
   "execution_count": 19,
   "id": "40a2585a",
   "metadata": {},
   "outputs": [
    {
     "name": "stdout",
     "output_type": "stream",
     "text": [
      "Odd number 1\n",
      "2\n",
      "Odd number 3\n",
      "4\n",
      "Odd number 5\n",
      "Odd number 7\n",
      "6\n",
      "8\n",
      "Odd number 9\n"
     ]
    }
   ],
   "source": [
    "for num in my_list:\n",
    "    # check for even \n",
    "    if num % 2 == 0:\n",
    "        print(num)\n",
    "    else:\n",
    "        print(f\"Odd number {num}\")"
   ]
  },
  {
   "cell_type": "code",
   "execution_count": 21,
   "id": "c11a8081",
   "metadata": {},
   "outputs": [
    {
     "name": "stdout",
     "output_type": "stream",
     "text": [
      "45\n"
     ]
    }
   ],
   "source": [
    " list_sum=0\n",
    "    \n",
    "for num in my_list:\n",
    "    list_sum = list_sum+num\n",
    "    \n",
    "print(list_sum)"
   ]
  },
  {
   "cell_type": "code",
   "execution_count": 24,
   "id": "4c34cf8a",
   "metadata": {},
   "outputs": [
    {
     "name": "stdout",
     "output_type": "stream",
     "text": [
      "H\n",
      "e\n",
      "l\n",
      "l\n",
      "o\n",
      " \n",
      "w\n",
      "o\n",
      "r\n",
      "l\n",
      "d\n"
     ]
    }
   ],
   "source": [
    "my_string = \"Hello world\"\n",
    "\n",
    "for letter in my_string:\n",
    "    print(letter)"
   ]
  },
  {
   "cell_type": "code",
   "execution_count": 25,
   "id": "68f88975",
   "metadata": {},
   "outputs": [
    {
     "name": "stdout",
     "output_type": "stream",
     "text": [
      "(1, 2)\n",
      "(3, 4)\n",
      "(5, 6)\n",
      "(7, 8)\n"
     ]
    }
   ],
   "source": [
    "mylist = [(1,2),(3,4),(5,6),(7,8)]\n",
    "for items in mylist:\n",
    "    print(items)"
   ]
  },
  {
   "cell_type": "code",
   "execution_count": 27,
   "id": "c2ef4b27",
   "metadata": {},
   "outputs": [
    {
     "name": "stdout",
     "output_type": "stream",
     "text": [
      "1\n",
      "3\n",
      "5\n",
      "7\n"
     ]
    }
   ],
   "source": [
    "# tuple unpacking \n",
    "\n",
    "for a,b in mylist:\n",
    "    print(a)\n",
    "    #print(b)\n",
    "    "
   ]
  },
  {
   "cell_type": "code",
   "execution_count": 34,
   "id": "7f1c3461",
   "metadata": {
    "scrolled": false
   },
   "outputs": [
    {
     "name": "stdout",
     "output_type": "stream",
     "text": [
      "1\n",
      "2\n"
     ]
    }
   ],
   "source": [
    "d = {'k1':1,'k2':2}\n",
    "\n",
    "for key,values in d.items():\n",
    "    print(values)"
   ]
  },
  {
   "cell_type": "markdown",
   "id": "c378ec20",
   "metadata": {},
   "source": [
    "# While Loops "
   ]
  },
  {
   "cell_type": "code",
   "execution_count": 3,
   "id": "d8719be3",
   "metadata": {},
   "outputs": [
    {
     "name": "stdout",
     "output_type": "stream",
     "text": [
      "Current value is 0\n",
      "Current value is 1\n",
      "Current value is 2\n",
      "Current value is 3\n",
      "Current value is 4\n",
      "X is not less than 5\n"
     ]
    }
   ],
   "source": [
    "x = 0\n",
    "\n",
    "while x<5:\n",
    "    print(f\"Current value is {x}\")\n",
    "    x=x+1\n",
    "else:\n",
    "    print(\"X is not less than 5\")"
   ]
  },
  {
   "cell_type": "code",
   "execution_count": 8,
   "id": "ff94b94b",
   "metadata": {},
   "outputs": [
    {
     "name": "stdout",
     "output_type": "stream",
     "text": [
      "M\n",
      "h\n",
      "i\n",
      "t\n"
     ]
    }
   ],
   "source": [
    "name = \"Mohit\"\n",
    "\n",
    "for letter in name:\n",
    "     if letter==\"o\":\n",
    "            continue     # goes back to the loop \n",
    "     print(letter)"
   ]
  },
  {
   "cell_type": "code",
   "execution_count": 12,
   "id": "9df9f83a",
   "metadata": {},
   "outputs": [
    {
     "name": "stdout",
     "output_type": "stream",
     "text": [
      "M\n",
      "o\n",
      "h\n",
      "i\n",
      "t\n",
      " \n"
     ]
    }
   ],
   "source": [
    "full_name = \"Mohit Dhaker\"\n",
    "for char in full_name:\n",
    "    if char==\"D\":\n",
    "        break\n",
    "    print(char)"
   ]
  },
  {
   "cell_type": "code",
   "execution_count": 14,
   "id": "11890c18",
   "metadata": {},
   "outputs": [
    {
     "data": {
      "text/plain": [
       "[0, 2, 4, 6, 8]"
      ]
     },
     "execution_count": 14,
     "metadata": {},
     "output_type": "execute_result"
    }
   ],
   "source": [
    "list(range(0,10,2))"
   ]
  },
  {
   "cell_type": "code",
   "execution_count": 16,
   "id": "9596d515",
   "metadata": {},
   "outputs": [
    {
     "name": "stdout",
     "output_type": "stream",
     "text": [
      "M is at 0 possition\n",
      "o is at 1 possition\n",
      "h is at 2 possition\n",
      "i is at 3 possition\n",
      "t is at 4 possition\n"
     ]
    }
   ],
   "source": [
    "name = \"Mohit\"\n",
    "letter_count=0\n",
    "\n",
    "for char in name:\n",
    "    print(f\"{char} is at {letter_count} possition\")\n",
    "    letter_count+=1"
   ]
  },
  {
   "cell_type": "code",
   "execution_count": 17,
   "id": "27c43e8c",
   "metadata": {},
   "outputs": [
    {
     "name": "stdout",
     "output_type": "stream",
     "text": [
      "(0, 'a')\n",
      "(1, 's')\n",
      "(2, 'd')\n",
      "(3, 'k')\n",
      "(4, 'j')\n",
      "(5, 'f')\n",
      "(6, 'h')\n",
      "(7, 'l')\n"
     ]
    }
   ],
   "source": [
    "# enumerate operation \n",
    "\n",
    "word= \"asdkjfhl\"\n",
    " \n",
    "for item in enumerate(word):\n",
    "    print(item)"
   ]
  },
  {
   "cell_type": "code",
   "execution_count": 18,
   "id": "18f56d76",
   "metadata": {},
   "outputs": [
    {
     "name": "stdout",
     "output_type": "stream",
     "text": [
      "(1, 'a', 100)\n",
      "(2, 'b', 200)\n",
      "(3, 'c', 300)\n"
     ]
    }
   ],
   "source": [
    "my_list_1 = [1,2,3]\n",
    "my_list_2 = ['a','b','c']\n",
    "my_list_3 = [100,200,300]\n",
    "\n",
    "for items in zip(my_list_1,my_list_2,my_list_3):     # zips all the list items provided \n",
    "    print(items)"
   ]
  },
  {
   "cell_type": "code",
   "execution_count": 19,
   "id": "825bde12",
   "metadata": {},
   "outputs": [
    {
     "data": {
      "text/plain": [
       "True"
      ]
     },
     "execution_count": 19,
     "metadata": {},
     "output_type": "execute_result"
    }
   ],
   "source": [
    "\"a\" in \"a world\""
   ]
  },
  {
   "cell_type": "code",
   "execution_count": 22,
   "id": "4ae8b98c",
   "metadata": {},
   "outputs": [
    {
     "name": "stdout",
     "output_type": "stream",
     "text": [
      "None\n"
     ]
    }
   ],
   "source": [
    "# Random library \n",
    "from random import shuffle\n",
    "\n",
    "r_list = [1,2,3,4,5,6,7]\n",
    "shuffle(r_list)"
   ]
  },
  {
   "cell_type": "code",
   "execution_count": 23,
   "id": "2314e84e",
   "metadata": {},
   "outputs": [
    {
     "data": {
      "text/plain": [
       "[6, 7, 5, 4, 2, 3, 1]"
      ]
     },
     "execution_count": 23,
     "metadata": {},
     "output_type": "execute_result"
    }
   ],
   "source": [
    "r_list "
   ]
  },
  {
   "cell_type": "code",
   "execution_count": 26,
   "id": "1eef3db5",
   "metadata": {},
   "outputs": [
    {
     "data": {
      "text/plain": [
       "8"
      ]
     },
     "execution_count": 26,
     "metadata": {},
     "output_type": "execute_result"
    }
   ],
   "source": [
    "from random import randint\n",
    "\n",
    "randint(0,10)"
   ]
  },
  {
   "cell_type": "markdown",
   "id": "6a18d320",
   "metadata": {},
   "source": [
    "## List comprehensions \n"
   ]
  },
  {
   "cell_type": "code",
   "execution_count": 27,
   "id": "23289ab6",
   "metadata": {},
   "outputs": [],
   "source": [
    "mystring = \"abcdefghi\"\n",
    "mylist = []\n",
    "for items in mystring:\n",
    "    mylist.append(items)\n",
    "    \n",
    "    "
   ]
  },
  {
   "cell_type": "code",
   "execution_count": 28,
   "id": "9412397f",
   "metadata": {},
   "outputs": [
    {
     "data": {
      "text/plain": [
       "['a', 'b', 'c', 'd', 'e', 'f', 'g', 'h', 'i']"
      ]
     },
     "execution_count": 28,
     "metadata": {},
     "output_type": "execute_result"
    }
   ],
   "source": [
    "mylist"
   ]
  },
  {
   "cell_type": "code",
   "execution_count": 29,
   "id": "2c9123fe",
   "metadata": {},
   "outputs": [],
   "source": [
    "# another alternatice \n",
    "\n",
    "my_list = [letter for letter in \"mohit\"]"
   ]
  },
  {
   "cell_type": "code",
   "execution_count": 30,
   "id": "0bbdf3f9",
   "metadata": {},
   "outputs": [
    {
     "data": {
      "text/plain": [
       "['m', 'o', 'h', 'i', 't']"
      ]
     },
     "execution_count": 30,
     "metadata": {},
     "output_type": "execute_result"
    }
   ],
   "source": [
    "my_list"
   ]
  },
  {
   "cell_type": "code",
   "execution_count": null,
   "id": "0df50ba2",
   "metadata": {},
   "outputs": [],
   "source": []
  }
 ],
 "metadata": {
  "kernelspec": {
   "display_name": "Python 3",
   "language": "python",
   "name": "python3"
  },
  "language_info": {
   "codemirror_mode": {
    "name": "ipython",
    "version": 3
   },
   "file_extension": ".py",
   "mimetype": "text/x-python",
   "name": "python",
   "nbconvert_exporter": "python",
   "pygments_lexer": "ipython3",
   "version": "3.8.8"
  }
 },
 "nbformat": 4,
 "nbformat_minor": 5
}
