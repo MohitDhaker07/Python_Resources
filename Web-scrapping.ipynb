{
 "cells": [
  {
   "cell_type": "code",
   "execution_count": 3,
   "id": "298f9f9f",
   "metadata": {},
   "outputs": [],
   "source": [
    "import requests"
   ]
  },
  {
   "cell_type": "markdown",
   "id": "216c3edc",
   "metadata": {},
   "source": [
    "## Grabing page title "
   ]
  },
  {
   "cell_type": "code",
   "execution_count": 5,
   "id": "914eb082",
   "metadata": {},
   "outputs": [],
   "source": [
    "result  = requests.get(\"https://example.com/\")"
   ]
  },
  {
   "cell_type": "code",
   "execution_count": 6,
   "id": "947bb01a",
   "metadata": {},
   "outputs": [
    {
     "data": {
      "text/plain": [
       "requests.models.Response"
      ]
     },
     "execution_count": 6,
     "metadata": {},
     "output_type": "execute_result"
    }
   ],
   "source": [
    "type(result)"
   ]
  },
  {
   "cell_type": "code",
   "execution_count": 8,
   "id": "2a86191c",
   "metadata": {},
   "outputs": [
    {
     "data": {
      "text/plain": [
       "'<!doctype html>\\n<html>\\n<head>\\n    <title>Example Domain</title>\\n\\n    <meta charset=\"utf-8\" />\\n    <meta http-equiv=\"Content-type\" content=\"text/html; charset=utf-8\" />\\n    <meta name=\"viewport\" content=\"width=device-width, initial-scale=1\" />\\n    <style type=\"text/css\">\\n    body {\\n        background-color: #f0f0f2;\\n        margin: 0;\\n        padding: 0;\\n        font-family: -apple-system, system-ui, BlinkMacSystemFont, \"Segoe UI\", \"Open Sans\", \"Helvetica Neue\", Helvetica, Arial, sans-serif;\\n        \\n    }\\n    div {\\n        width: 600px;\\n        margin: 5em auto;\\n        padding: 2em;\\n        background-color: #fdfdff;\\n        border-radius: 0.5em;\\n        box-shadow: 2px 3px 7px 2px rgba(0,0,0,0.02);\\n    }\\n    a:link, a:visited {\\n        color: #38488f;\\n        text-decoration: none;\\n    }\\n    @media (max-width: 700px) {\\n        div {\\n            margin: 0 auto;\\n            width: auto;\\n        }\\n    }\\n    </style>    \\n</head>\\n\\n<body>\\n<div>\\n    <h1>Example Domain</h1>\\n    <p>This domain is for use in illustrative examples in documents. You may use this\\n    domain in literature without prior coordination or asking for permission.</p>\\n    <p><a href=\"https://www.iana.org/domains/example\">More information...</a></p>\\n</div>\\n</body>\\n</html>\\n'"
      ]
     },
     "execution_count": 8,
     "metadata": {},
     "output_type": "execute_result"
    }
   ],
   "source": [
    "result.text"
   ]
  },
  {
   "cell_type": "code",
   "execution_count": 9,
   "id": "3b08e946",
   "metadata": {},
   "outputs": [],
   "source": [
    "import bs4"
   ]
  },
  {
   "cell_type": "code",
   "execution_count": 10,
   "id": "ba0fb485",
   "metadata": {},
   "outputs": [],
   "source": [
    "soup = bs4.BeautifulSoup(result.text, 'lxml')"
   ]
  },
  {
   "cell_type": "code",
   "execution_count": 11,
   "id": "6cc2d791",
   "metadata": {},
   "outputs": [
    {
     "data": {
      "text/plain": [
       "<!DOCTYPE html>\n",
       "<html>\n",
       "<head>\n",
       "<title>Example Domain</title>\n",
       "<meta charset=\"utf-8\"/>\n",
       "<meta content=\"text/html; charset=utf-8\" http-equiv=\"Content-type\"/>\n",
       "<meta content=\"width=device-width, initial-scale=1\" name=\"viewport\"/>\n",
       "<style type=\"text/css\">\n",
       "    body {\n",
       "        background-color: #f0f0f2;\n",
       "        margin: 0;\n",
       "        padding: 0;\n",
       "        font-family: -apple-system, system-ui, BlinkMacSystemFont, \"Segoe UI\", \"Open Sans\", \"Helvetica Neue\", Helvetica, Arial, sans-serif;\n",
       "        \n",
       "    }\n",
       "    div {\n",
       "        width: 600px;\n",
       "        margin: 5em auto;\n",
       "        padding: 2em;\n",
       "        background-color: #fdfdff;\n",
       "        border-radius: 0.5em;\n",
       "        box-shadow: 2px 3px 7px 2px rgba(0,0,0,0.02);\n",
       "    }\n",
       "    a:link, a:visited {\n",
       "        color: #38488f;\n",
       "        text-decoration: none;\n",
       "    }\n",
       "    @media (max-width: 700px) {\n",
       "        div {\n",
       "            margin: 0 auto;\n",
       "            width: auto;\n",
       "        }\n",
       "    }\n",
       "    </style>\n",
       "</head>\n",
       "<body>\n",
       "<div>\n",
       "<h1>Example Domain</h1>\n",
       "<p>This domain is for use in illustrative examples in documents. You may use this\n",
       "    domain in literature without prior coordination or asking for permission.</p>\n",
       "<p><a href=\"https://www.iana.org/domains/example\">More information...</a></p>\n",
       "</div>\n",
       "</body>\n",
       "</html>"
      ]
     },
     "execution_count": 11,
     "metadata": {},
     "output_type": "execute_result"
    }
   ],
   "source": [
    "soup"
   ]
  },
  {
   "cell_type": "code",
   "execution_count": 21,
   "id": "ddceb354",
   "metadata": {},
   "outputs": [
    {
     "data": {
      "text/plain": [
       "'Example Domain'"
      ]
     },
     "execution_count": 21,
     "metadata": {},
     "output_type": "execute_result"
    }
   ],
   "source": [
    "soup.select('title')[0].getText()"
   ]
  },
  {
   "cell_type": "code",
   "execution_count": 26,
   "id": "10c2e6b7",
   "metadata": {},
   "outputs": [],
   "source": [
    "site_paragraphs = soup.select(\"p\")"
   ]
  },
  {
   "cell_type": "code",
   "execution_count": 30,
   "id": "0dbdee32",
   "metadata": {},
   "outputs": [
    {
     "data": {
      "text/plain": [
       "<p>This domain is for use in illustrative examples in documents. You may use this\n",
       "    domain in literature without prior coordination or asking for permission.</p>"
      ]
     },
     "execution_count": 30,
     "metadata": {},
     "output_type": "execute_result"
    }
   ],
   "source": [
    "site_paragraphs[0]"
   ]
  },
  {
   "cell_type": "markdown",
   "id": "4c89f08e",
   "metadata": {},
   "source": [
    "### Grabbing a class"
   ]
  },
  {
   "cell_type": "code",
   "execution_count": 38,
   "id": "60830545",
   "metadata": {},
   "outputs": [],
   "source": [
    "new_request = requests.get(\"https://en.wikipedia.org/wiki/Planet\")"
   ]
  },
  {
   "cell_type": "code",
   "execution_count": 41,
   "id": "3c8aefbe",
   "metadata": {},
   "outputs": [],
   "source": [
    "new_soup = bs4.BeautifulSoup(new_request.text,'lxml')"
   ]
  },
  {
   "cell_type": "code",
   "execution_count": 55,
   "id": "3f2b620c",
   "metadata": {},
   "outputs": [
    {
     "data": {
      "text/plain": [
       "[<span class=\"toctext\">History</span>,\n",
       " <span class=\"toctext\">Babylon</span>,\n",
       " <span class=\"toctext\">Greco-Roman astronomy</span>,\n",
       " <span class=\"toctext\">India</span>,\n",
       " <span class=\"toctext\">Medieval Muslim astronomy</span>,\n",
       " <span class=\"toctext\">European Renaissance</span>,\n",
       " <span class=\"toctext\">19th century</span>,\n",
       " <span class=\"toctext\">20th century</span>,\n",
       " <span class=\"toctext\">21st century</span>,\n",
       " <span class=\"toctext\">Extrasolar planets</span>,\n",
       " <span class=\"toctext\">2006 IAU definition of planet</span>,\n",
       " <span class=\"toctext\">Margot's criterion</span>,\n",
       " <span class=\"toctext\">Geophysical definitions</span>,\n",
       " <span class=\"toctext\">Mythology and naming</span>,\n",
       " <span class=\"toctext\">Formation</span>,\n",
       " <span class=\"toctext\">Solar System</span>,\n",
       " <span class=\"toctext\">Planetary attributes</span>,\n",
       " <span class=\"toctext\">Exoplanets</span>,\n",
       " <span class=\"toctext\">Attributes</span>,\n",
       " <span class=\"toctext\">Dynamic characteristics</span>,\n",
       " <span class=\"toctext\">Orbit</span>,\n",
       " <span class=\"toctext\">Axial tilt</span>,\n",
       " <span class=\"toctext\">Rotation</span>,\n",
       " <span class=\"toctext\">Orbital clearing</span>,\n",
       " <span class=\"toctext\">Physical characteristics</span>,\n",
       " <span class=\"toctext\">Size and shape</span>,\n",
       " <span class=\"toctext\">Mass</span>,\n",
       " <span class=\"toctext\">Internal differentiation</span>,\n",
       " <span class=\"toctext\">Atmosphere</span>,\n",
       " <span class=\"toctext\">Magnetosphere</span>,\n",
       " <span class=\"toctext\">See also</span>,\n",
       " <span class=\"toctext\">Notes</span>,\n",
       " <span class=\"toctext\">References</span>,\n",
       " <span class=\"toctext\">External links</span>]"
      ]
     },
     "execution_count": 55,
     "metadata": {},
     "output_type": "execute_result"
    }
   ],
   "source": [
    "new_soup.select(\".toctext\")"
   ]
  },
  {
   "cell_type": "code",
   "execution_count": 54,
   "id": "bfdcde24",
   "metadata": {},
   "outputs": [
    {
     "name": "stdout",
     "output_type": "stream",
     "text": [
      "History\n",
      "Babylon\n",
      "Greco-Roman astronomy\n",
      "India\n",
      "Medieval Muslim astronomy\n",
      "European Renaissance\n",
      "19th century\n",
      "20th century\n",
      "21st century\n",
      "Extrasolar planets\n",
      "2006 IAU definition of planet\n",
      "Margot's criterion\n",
      "Geophysical definitions\n",
      "Mythology and naming\n",
      "Formation\n",
      "Solar System\n",
      "Planetary attributes\n",
      "Exoplanets\n",
      "Attributes\n",
      "Dynamic characteristics\n",
      "Orbit\n",
      "Axial tilt\n",
      "Rotation\n",
      "Orbital clearing\n",
      "Physical characteristics\n",
      "Size and shape\n",
      "Mass\n",
      "Internal differentiation\n",
      "Atmosphere\n",
      "Magnetosphere\n",
      "See also\n",
      "Notes\n",
      "References\n",
      "External links\n"
     ]
    }
   ],
   "source": [
    "for items in new_soup.select(\".toctext\"):\n",
    "    print(items.text)"
   ]
  },
  {
   "cell_type": "markdown",
   "id": "d8c4894a",
   "metadata": {},
   "source": [
    "## Grabbing an image "
   ]
  },
  {
   "cell_type": "code",
   "execution_count": 71,
   "id": "11ef1630",
   "metadata": {},
   "outputs": [],
   "source": [
    "images  = requests.get(\"https://en.wikipedia.org/wiki/Deep_Blue_(chess_computer)\")"
   ]
  },
  {
   "cell_type": "code",
   "execution_count": 72,
   "id": "0fdc2205",
   "metadata": {},
   "outputs": [],
   "source": [
    "image_soup = bs4.BeautifulSoup(images.text,\"lxml\")"
   ]
  },
  {
   "cell_type": "code",
   "execution_count": 73,
   "id": "7044da2d",
   "metadata": {},
   "outputs": [],
   "source": [
    "# image_soup"
   ]
  },
  {
   "cell_type": "code",
   "execution_count": 74,
   "id": "339d7de0",
   "metadata": {},
   "outputs": [],
   "source": [
    "image = image_soup.select('.thumbimage')[0]"
   ]
  },
  {
   "cell_type": "code",
   "execution_count": 76,
   "id": "805948ff",
   "metadata": {},
   "outputs": [],
   "source": [
    "image_link = requests.get('https://upload.wikimedia.org/wikipedia/commons/thumb/b/be/Deep_Blue.jpg/220px-Deep_Blue.jpg')"
   ]
  },
  {
   "cell_type": "code",
   "execution_count": 77,
   "id": "35dbf5b4",
   "metadata": {},
   "outputs": [],
   "source": [
    "f = open('my_new_file_name.jpg','wb')\n",
    "f.write(image_link.content)\n",
    "f.close()"
   ]
  },
  {
   "cell_type": "code",
   "execution_count": null,
   "id": "4cb26fd6",
   "metadata": {},
   "outputs": [],
   "source": []
  },
  {
   "cell_type": "code",
   "execution_count": null,
   "id": "73a0c844",
   "metadata": {},
   "outputs": [],
   "source": []
  }
 ],
 "metadata": {
  "kernelspec": {
   "display_name": "Python 3",
   "language": "python",
   "name": "python3"
  },
  "language_info": {
   "codemirror_mode": {
    "name": "ipython",
    "version": 3
   },
   "file_extension": ".py",
   "mimetype": "text/x-python",
   "name": "python",
   "nbconvert_exporter": "python",
   "pygments_lexer": "ipython3",
   "version": "3.8.8"
  }
 },
 "nbformat": 4,
 "nbformat_minor": 5
}
