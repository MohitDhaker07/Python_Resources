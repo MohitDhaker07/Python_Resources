{
 "cells": [
  {
   "cell_type": "code",
   "execution_count": 30,
   "id": "d74e7604",
   "metadata": {},
   "outputs": [],
   "source": [
    "import csv"
   ]
  },
  {
   "cell_type": "code",
   "execution_count": 49,
   "id": "05923833",
   "metadata": {},
   "outputs": [],
   "source": [
    "data = open(\"stores.csv\")"
   ]
  },
  {
   "cell_type": "code",
   "execution_count": 50,
   "id": "5d0283a0",
   "metadata": {},
   "outputs": [
    {
     "data": {
      "text/plain": [
       "<_io.TextIOWrapper name='stores.csv' mode='r' encoding='cp65001'>"
      ]
     },
     "execution_count": 50,
     "metadata": {},
     "output_type": "execute_result"
    }
   ],
   "source": [
    "data"
   ]
  },
  {
   "cell_type": "code",
   "execution_count": 51,
   "id": "29fcf335",
   "metadata": {},
   "outputs": [],
   "source": [
    "csv_data = csv.reader(data)"
   ]
  },
  {
   "cell_type": "code",
   "execution_count": 59,
   "id": "c1a50306",
   "metadata": {},
   "outputs": [],
   "source": [
    "# list(csv_data)"
   ]
  },
  {
   "cell_type": "code",
   "execution_count": 57,
   "id": "731344c6",
   "metadata": {},
   "outputs": [],
   "source": [
    "data = open('stores.csv',encoding=\"utf-8\")\n",
    "csv_data = csv.reader(data)\n",
    "data_lines = list(csv_data)"
   ]
  },
  {
   "cell_type": "code",
   "execution_count": 58,
   "id": "b0a7af00",
   "metadata": {},
   "outputs": [
    {
     "data": {
      "text/plain": [
       "[['store_nbr', 'city', 'state', 'type', 'cluster'],\n",
       " ['1', 'Quito', 'Pichincha', 'D', '13'],\n",
       " ['2', 'Quito', 'Pichincha', 'D', '13'],\n",
       " ['3', 'Quito', 'Pichincha', 'D', '8'],\n",
       " ['4', 'Quito', 'Pichincha', 'D', '9'],\n",
       " ['5', 'Santo Domingo', 'Santo Domingo de los Tsachilas', 'D', '4'],\n",
       " ['6', 'Quito', 'Pichincha', 'D', '13'],\n",
       " ['7', 'Quito', 'Pichincha', 'D', '8'],\n",
       " ['8', 'Quito', 'Pichincha', 'D', '8'],\n",
       " ['9', 'Quito', 'Pichincha', 'B', '6'],\n",
       " ['10', 'Quito', 'Pichincha', 'C', '15'],\n",
       " ['11', 'Cayambe', 'Pichincha', 'B', '6'],\n",
       " ['12', 'Latacunga', 'Cotopaxi', 'C', '15'],\n",
       " ['13', 'Latacunga', 'Cotopaxi', 'C', '15'],\n",
       " ['14', 'Riobamba', 'Chimborazo', 'C', '7'],\n",
       " ['15', 'Ibarra', 'Imbabura', 'C', '15'],\n",
       " ['16', 'Santo Domingo', 'Santo Domingo de los Tsachilas', 'C', '3'],\n",
       " ['17', 'Quito', 'Pichincha', 'C', '12'],\n",
       " ['18', 'Quito', 'Pichincha', 'B', '16'],\n",
       " ['19', 'Guaranda', 'Bolivar', 'C', '15'],\n",
       " ['20', 'Quito', 'Pichincha', 'B', '6'],\n",
       " ['21', 'Santo Domingo', 'Santo Domingo de los Tsachilas', 'B', '6'],\n",
       " ['22', 'Puyo', 'Pastaza', 'C', '7'],\n",
       " ['23', 'Ambato', 'Tungurahua', 'D', '9'],\n",
       " ['24', 'Guayaquil', 'Guayas', 'D', '1'],\n",
       " ['25', 'Salinas', 'Santa Elena', 'D', '1'],\n",
       " ['26', 'Guayaquil', 'Guayas', 'D', '10'],\n",
       " ['27', 'Daule', 'Guayas', 'D', '1'],\n",
       " ['28', 'Guayaquil', 'Guayas', 'E', '10'],\n",
       " ['29', 'Guayaquil', 'Guayas', 'E', '10'],\n",
       " ['30', 'Guayaquil', 'Guayas', 'C', '3'],\n",
       " ['31', 'Babahoyo', 'Los Rios', 'B', '10'],\n",
       " ['32', 'Guayaquil', 'Guayas', 'C', '3'],\n",
       " ['33', 'Quevedo', 'Los Rios', 'C', '3'],\n",
       " ['34', 'Guayaquil', 'Guayas', 'B', '6'],\n",
       " ['35', 'Playas', 'Guayas', 'C', '3'],\n",
       " ['36', 'Libertad', 'Guayas', 'E', '10'],\n",
       " ['37', 'Cuenca', 'Azuay', 'D', '2'],\n",
       " ['38', 'Loja', 'Loja', 'D', '4'],\n",
       " ['39', 'Cuenca', 'Azuay', 'B', '6'],\n",
       " ['40', 'Machala', 'El Oro', 'C', '3'],\n",
       " ['41', 'Machala', 'El Oro', 'D', '4'],\n",
       " ['42', 'Cuenca', 'Azuay', 'D', '2'],\n",
       " ['43', 'Esmeraldas', 'Esmeraldas', 'E', '10'],\n",
       " ['44', 'Quito', 'Pichincha', 'A', '5'],\n",
       " ['45', 'Quito', 'Pichincha', 'A', '11'],\n",
       " ['46', 'Quito', 'Pichincha', 'A', '14'],\n",
       " ['47', 'Quito', 'Pichincha', 'A', '14'],\n",
       " ['48', 'Quito', 'Pichincha', 'A', '14'],\n",
       " ['49', 'Quito', 'Pichincha', 'A', '11'],\n",
       " ['50', 'Ambato', 'Tungurahua', 'A', '14'],\n",
       " ['51', 'Guayaquil', 'Guayas', 'A', '17'],\n",
       " ['52', 'Manta', 'Manabi', 'A', '11'],\n",
       " ['53', 'Manta', 'Manabi', 'D', '13'],\n",
       " ['54', 'El Carmen', 'Manabi', 'C', '3']]"
      ]
     },
     "execution_count": 58,
     "metadata": {},
     "output_type": "execute_result"
    }
   ],
   "source": [
    "data_lines"
   ]
  },
  {
   "cell_type": "code",
   "execution_count": 71,
   "id": "3f42fddb",
   "metadata": {},
   "outputs": [
    {
     "data": {
      "text/plain": [
       "[['store_nbr', 'city', 'state', 'type', 'cluster'],\n",
       " ['1', 'Quito', 'Pichincha', 'D', '13'],\n",
       " ['2', 'Quito', 'Pichincha', 'D', '13']]"
      ]
     },
     "execution_count": 71,
     "metadata": {},
     "output_type": "execute_result"
    }
   ],
   "source": [
    "data_lines[:3]"
   ]
  },
  {
   "cell_type": "code",
   "execution_count": 61,
   "id": "7dba1006",
   "metadata": {},
   "outputs": [
    {
     "data": {
      "text/plain": [
       "55"
      ]
     },
     "execution_count": 61,
     "metadata": {},
     "output_type": "execute_result"
    }
   ],
   "source": [
    "len(data_lines)"
   ]
  },
  {
   "cell_type": "code",
   "execution_count": 66,
   "id": "73bc2e9d",
   "metadata": {},
   "outputs": [],
   "source": [
    "city=[]\n",
    "for cities in data_lines[1:10]:\n",
    "    city.append(cities[1])"
   ]
  },
  {
   "cell_type": "code",
   "execution_count": 68,
   "id": "663072f2",
   "metadata": {},
   "outputs": [
    {
     "name": "stdout",
     "output_type": "stream",
     "text": [
      "['Quito', 'Quito', 'Quito', 'Quito', 'Santo Domingo', 'Quito', 'Quito', 'Quito', 'Quito']\n"
     ]
    }
   ],
   "source": [
    "print(city)"
   ]
  },
  {
   "cell_type": "code",
   "execution_count": 69,
   "id": "0c45a0ec",
   "metadata": {},
   "outputs": [],
   "source": [
    "# file_to_output = open('to_save_file.csv','w',newline='')\n",
    "# csv_writer = csv.writer(file_to_output,delimiter=',')\n",
    "# csv_writer.writerow(['a','b','c'])\n",
    "# csv_writer.writerows([['1','2','3'],['4','5','6']])\n",
    "# file_to_output.close()"
   ]
  },
  {
   "cell_type": "code",
   "execution_count": null,
   "id": "acd94a76",
   "metadata": {},
   "outputs": [],
   "source": []
  }
 ],
 "metadata": {
  "kernelspec": {
   "display_name": "Python 3",
   "language": "python",
   "name": "python3"
  },
  "language_info": {
   "codemirror_mode": {
    "name": "ipython",
    "version": 3
   },
   "file_extension": ".py",
   "mimetype": "text/x-python",
   "name": "python",
   "nbconvert_exporter": "python",
   "pygments_lexer": "ipython3",
   "version": "3.8.8"
  }
 },
 "nbformat": 4,
 "nbformat_minor": 5
}
