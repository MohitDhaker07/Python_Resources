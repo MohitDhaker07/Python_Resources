{
 "cells": [
  {
   "cell_type": "markdown",
   "id": "e2df07be",
   "metadata": {},
   "source": [
    "#attributes and class keyword"
   ]
  },
  {
   "cell_type": "code",
   "execution_count": 6,
   "id": "60378ce2",
   "metadata": {},
   "outputs": [],
   "source": [
    "class Dogs():\n",
    "    def __init__ (self,name,spots,breed):\n",
    "        self.name  = name\n",
    "        self.spots = spots\n",
    "        self.breed = breed"
   ]
  },
  {
   "cell_type": "code",
   "execution_count": 7,
   "id": "0f037a6e",
   "metadata": {},
   "outputs": [],
   "source": [
    "my_dog = Dogs(name = \"sammy\", spots = \"no spots\", breed = \"lab\")"
   ]
  },
  {
   "cell_type": "code",
   "execution_count": 8,
   "id": "fe3acab7",
   "metadata": {},
   "outputs": [
    {
     "data": {
      "text/plain": [
       "'lab'"
      ]
     },
     "execution_count": 8,
     "metadata": {},
     "output_type": "execute_result"
    }
   ],
   "source": [
    "my_dog.breed"
   ]
  },
  {
   "cell_type": "code",
   "execution_count": 37,
   "id": "d1006e64",
   "metadata": {},
   "outputs": [],
   "source": [
    "# class objects attributes  and methods\n",
    "\n",
    "class Dogs():\n",
    "    \n",
    "    #CLASS OBJECT ATTRIBUTE\n",
    "    #SAME FOR ANY INSTANCE FOR A CLASS \n",
    "    species = 'mammals'\n",
    "    \n",
    "    def __init__ (self,name,breed):\n",
    "        self.name  = name\n",
    "        self.breed = breed\n",
    "    \n",
    "    def bark(self):\n",
    "        dog_name = self.name\n",
    "        if dog_name == 'tom':\n",
    "            print(f\"Woof! my name is {dog_name}\")\n",
    "        \n",
    "        "
   ]
  },
  {
   "cell_type": "code",
   "execution_count": 38,
   "id": "361d2501",
   "metadata": {},
   "outputs": [],
   "source": [
    "my_dog = Dogs('tom','lab')"
   ]
  },
  {
   "cell_type": "code",
   "execution_count": 39,
   "id": "da6386f6",
   "metadata": {},
   "outputs": [
    {
     "name": "stdout",
     "output_type": "stream",
     "text": [
      "Woof! my name is tom\n"
     ]
    }
   ],
   "source": [
    "my_dog.bark()"
   ]
  },
  {
   "cell_type": "code",
   "execution_count": 62,
   "id": "efeeb62e",
   "metadata": {},
   "outputs": [],
   "source": [
    "class Circle():\n",
    "    \n",
    "    #CLASS OBJECT ATTRIBUTE \n",
    "    pi = 3.14\n",
    "    \n",
    "    def __init__(self, radius=1):\n",
    "        self.radius = radius\n",
    "        \n",
    "    #Method \n",
    "    def area(self):\n",
    "        radius = self.radius\n",
    "        area = self.pi*radius**2\n",
    "        return area"
   ]
  },
  {
   "cell_type": "code",
   "execution_count": 63,
   "id": "562e708e",
   "metadata": {},
   "outputs": [
    {
     "name": "stdout",
     "output_type": "stream",
     "text": [
      "Enter radius : 3\n"
     ]
    }
   ],
   "source": [
    "user =int(input(\"Enter radius : \"))\n",
    "my_circle = Circle(user)"
   ]
  },
  {
   "cell_type": "code",
   "execution_count": 64,
   "id": "90120861",
   "metadata": {},
   "outputs": [
    {
     "data": {
      "text/plain": [
       "28.26"
      ]
     },
     "execution_count": 64,
     "metadata": {},
     "output_type": "execute_result"
    }
   ],
   "source": [
    "my_circle.area()"
   ]
  },
  {
   "cell_type": "markdown",
   "id": "8468032d",
   "metadata": {},
   "source": [
    "# inheritance "
   ]
  },
  {
   "cell_type": "code",
   "execution_count": 85,
   "id": "9723d046",
   "metadata": {},
   "outputs": [],
   "source": [
    "class Animal():\n",
    "    def __init__(self):\n",
    "        print(\"Animal created\")\n",
    "        \n",
    "    def Who_am_i(self):\n",
    "        print(\"I am an animal\")\n",
    "    \n",
    "    def eat(self):\n",
    "        print(\"I am eating\")"
   ]
  },
  {
   "cell_type": "code",
   "execution_count": 90,
   "id": "7e681da2",
   "metadata": {},
   "outputs": [],
   "source": [
    "class Dog(Animal):  #Derived class \n",
    "    def __init__(self):\n",
    "        Animal.eat(self)\n",
    "        print(\"Eating\")\n",
    "    def Who_am_i(self):   #Overrighting moodule from previous class\n",
    "        print(\"I am an Dog\")"
   ]
  },
  {
   "cell_type": "code",
   "execution_count": 91,
   "id": "f89464c0",
   "metadata": {},
   "outputs": [
    {
     "name": "stdout",
     "output_type": "stream",
     "text": [
      "I am eating\n",
      "Eating\n"
     ]
    }
   ],
   "source": [
    "mydog = Dog()"
   ]
  },
  {
   "cell_type": "markdown",
   "id": "d8f4029c",
   "metadata": {},
   "source": [
    "#Polymorphism  "
   ]
  },
  {
   "cell_type": "code",
   "execution_count": 97,
   "id": "0e1fd5bd",
   "metadata": {},
   "outputs": [],
   "source": [
    "class MyDog():\n",
    "    def __init__(self, name):\n",
    "        self.name=name\n",
    "    def speak(self):\n",
    "        return self.name+\" says woof!\""
   ]
  },
  {
   "cell_type": "code",
   "execution_count": 98,
   "id": "2de4b811",
   "metadata": {},
   "outputs": [],
   "source": [
    "class Cat():\n",
    "    def __init__(self, name):\n",
    "        self.name=name\n",
    "    def speak(self):\n",
    "        return self.name+\" says meow!\""
   ]
  },
  {
   "cell_type": "code",
   "execution_count": 99,
   "id": "79fffc97",
   "metadata": {},
   "outputs": [],
   "source": [
    "dog = MyDog(\"lab\")\n",
    "cat = Cat(\"Tom\")"
   ]
  },
  {
   "cell_type": "code",
   "execution_count": 102,
   "id": "1f43c7ad",
   "metadata": {},
   "outputs": [
    {
     "name": "stdout",
     "output_type": "stream",
     "text": [
      "<class '__main__.MyDog'>\n",
      "lab says woof!\n",
      "<class '__main__.Cat'>\n",
      "Tom says meow!\n"
     ]
    }
   ],
   "source": [
    "for pets in [dog,cat]:\n",
    "    print(type(pets))\n",
    "    print(pets.speak())"
   ]
  },
  {
   "cell_type": "markdown",
   "id": "a9855217",
   "metadata": {},
   "source": [
    "#Special methods "
   ]
  },
  {
   "cell_type": "code",
   "execution_count": 116,
   "id": "4a096db4",
   "metadata": {},
   "outputs": [],
   "source": [
    "class Book():\n",
    "    def __init__(self, title, author, pages):\n",
    "        self.title = title\n",
    "        self.author = author\n",
    "        self.pages = pages\n",
    "    \n",
    "    def __str__(self):      # special method \n",
    "        return(f\"{self.title} by {self.author}\")\n",
    "                    \n",
    "    def __len__(self):\n",
    "        return self.pages\n",
    "    def __del__(self):\n",
    "        print(\"Book object has been deleted\")"
   ]
  },
  {
   "cell_type": "code",
   "execution_count": 117,
   "id": "11ad162c",
   "metadata": {},
   "outputs": [],
   "source": [
    "b = Book(\"DES\",\"AW\",300)"
   ]
  },
  {
   "cell_type": "code",
   "execution_count": 118,
   "id": "2112289c",
   "metadata": {},
   "outputs": [
    {
     "name": "stdout",
     "output_type": "stream",
     "text": [
      "DES by AW\n"
     ]
    }
   ],
   "source": [
    "print(b)"
   ]
  },
  {
   "cell_type": "code",
   "execution_count": 119,
   "id": "710a775f",
   "metadata": {},
   "outputs": [
    {
     "data": {
      "text/plain": [
       "300"
      ]
     },
     "execution_count": 119,
     "metadata": {},
     "output_type": "execute_result"
    }
   ],
   "source": [
    "len(b)"
   ]
  },
  {
   "cell_type": "code",
   "execution_count": 120,
   "id": "66164d24",
   "metadata": {},
   "outputs": [
    {
     "name": "stdout",
     "output_type": "stream",
     "text": [
      "Book object has been deleted\n"
     ]
    }
   ],
   "source": [
    "del b"
   ]
  },
  {
   "cell_type": "code",
   "execution_count": null,
   "id": "4fa68a34",
   "metadata": {},
   "outputs": [],
   "source": []
  },
  {
   "cell_type": "code",
   "execution_count": null,
   "id": "d846e91a",
   "metadata": {},
   "outputs": [],
   "source": []
  }
 ],
 "metadata": {
  "kernelspec": {
   "display_name": "Python 3",
   "language": "python",
   "name": "python3"
  },
  "language_info": {
   "codemirror_mode": {
    "name": "ipython",
    "version": 3
   },
   "file_extension": ".py",
   "mimetype": "text/x-python",
   "name": "python",
   "nbconvert_exporter": "python",
   "pygments_lexer": "ipython3",
   "version": "3.8.8"
  }
 },
 "nbformat": 4,
 "nbformat_minor": 5
}
